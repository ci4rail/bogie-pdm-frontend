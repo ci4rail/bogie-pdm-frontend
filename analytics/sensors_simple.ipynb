{
 "cells": [
  {
   "cell_type": "code",
   "execution_count": 1,
   "metadata": {},
   "outputs": [],
   "source": [
    "%matplotlib widget\n",
    "%load_ext autoreload\n",
    "%autoreload 2\n",
    "%gui asyncio\n",
    "\n",
    "import stream.bogie_loader as loader\n",
    "import sensors_ui.simple_ui as ui\n",
    "import datetime\n",
    "import matplotlib\n",
    "import pandas as pd\n",
    "from dateutil import tz\n",
    "from account import *\n",
    "matplotlib.rc('font', family='Monospace') \n",
    "matplotlib.rcParams.update({'figure.max_open_warning': 0})\n"
   ]
  },
  {
   "cell_type": "code",
   "execution_count": 6,
   "metadata": {},
   "outputs": [
    {
     "name": "stdout",
     "output_type": "stream",
     "text": [
      "loaded 24 rows\n"
     ]
    },
    {
     "data": {
      "application/vnd.jupyter.widget-view+json": {
       "model_id": "03549509133c4c9081791ad9117068e3",
       "version_major": 2,
       "version_minor": 0
      },
      "text/plain": [
       "SensorsUi(children=(Map(center=[49.0, 12.1], controls=(ZoomControl(options=['position', 'zoom_in_text', 'zoom_…"
      ]
     },
     "metadata": {},
     "output_type": "display_data"
    }
   ],
   "source": [
    "%autoreload 2\n",
    "#START_TIME = \"2023-03-15T16:10:00+01:00\"\n",
    "#start =datetime.datetime.fromisoformat(START_TIME)\n",
    "TIME_RANGE = datetime.timedelta(minutes=60)\n",
    "start = datetime.datetime.now().replace(tzinfo=tz.tzlocal()) - TIME_RANGE\n",
    "\n",
    "df = await loader.nats_stream_fetch( SERVER, NATS_CREDS, STREAM_NAME, EXPORT_SUBJECT_SENSORS, start, start + TIME_RANGE)\n",
    "\n",
    "ui.SensorsUi(df)\n",
    "\n"
   ]
  },
  {
   "cell_type": "code",
   "execution_count": null,
   "metadata": {},
   "outputs": [],
   "source": [
    "df = pd.read_pickle(\"data/sensors-20220914T000000-20220914T100000.df\")\n",
    "#df = df[(df.trigger_time > \"2022-09-07T08:28:46.742170+02:00\") & (df.trigger_time < \"2022-09-07T14:28:46.742170+02:00\")]\n",
    "ui.SensorsUi(df)"
   ]
  },
  {
   "cell_type": "code",
   "execution_count": null,
   "metadata": {},
   "outputs": [],
   "source": [
    "from numpy.fft import fft, ifft\n",
    "import numpy as np\n",
    "import matplotlib.pyplot as plt\n",
    "d = df.iloc[19]\n",
    "sr = 1000\n",
    "freq = 10\n",
    "ts = 1.0/sr\n",
    "x = d.sensor_data.sensor2\n",
    "x = x.to_numpy()\n",
    "x -= 0.6\n",
    "#t = np.arange(0, 1, ts)\n",
    "#x = 3*np.sin(2*np.pi*freq*t)\n",
    "f = fft(x)\n",
    "N = len(f)\n",
    "n = np.arange(N)\n",
    "T = N/sr\n",
    "freq = n/T \n",
    "\n",
    "plt.figure(figsize = (12, 6))\n",
    "plt.subplot(121)\n",
    "plt.yscale(\"log\")\n",
    "plt.xlim(0,sr/2)\n",
    "plt.stem(freq, np.abs(f), linefmt='b', \\\n",
    "         markerfmt=\" \", basefmt=\"-b\")\n",
    "plt.show()"
   ]
  },
  {
   "cell_type": "code",
   "execution_count": null,
   "metadata": {},
   "outputs": [],
   "source": [
    "x"
   ]
  },
  {
   "cell_type": "code",
   "execution_count": null,
   "metadata": {},
   "outputs": [],
   "source": [
    "len(x)"
   ]
  },
  {
   "cell_type": "code",
   "execution_count": null,
   "metadata": {},
   "outputs": [],
   "source": [
    "N"
   ]
  },
  {
   "cell_type": "code",
   "execution_count": null,
   "metadata": {},
   "outputs": [],
   "source": [
    "t"
   ]
  },
  {
   "cell_type": "code",
   "execution_count": null,
   "metadata": {},
   "outputs": [],
   "source": []
  }
 ],
 "metadata": {
  "kernelspec": {
   "display_name": "Python 3 (ipykernel)",
   "language": "python",
   "name": "python3"
  },
  "language_info": {
   "codemirror_mode": {
    "name": "ipython",
    "version": 3
   },
   "file_extension": ".py",
   "mimetype": "text/x-python",
   "name": "python",
   "nbconvert_exporter": "python",
   "pygments_lexer": "ipython3",
   "version": "3.9.0"
  },
  "vscode": {
   "interpreter": {
    "hash": "81794d4967e6c3204c66dcd87b604927b115b27c00565d3d43f05ba2f3a2cb0d"
   }
  }
 },
 "nbformat": 4,
 "nbformat_minor": 4
}
