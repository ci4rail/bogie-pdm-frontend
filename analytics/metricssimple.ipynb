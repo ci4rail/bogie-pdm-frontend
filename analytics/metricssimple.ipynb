{
 "cells": [
  {
   "cell_type": "code",
   "execution_count": 1,
   "metadata": {},
   "outputs": [],
   "source": [
    "%matplotlib widget\n",
    "%load_ext autoreload\n",
    "%autoreload 2\n",
    "%gui asyncio\n",
    "\n",
    "import stream.metrics_loader as loader\n",
    "import metrics_ui.simple_ui as ui\n",
    "import datetime\n",
    "import matplotlib\n",
    "import pandas as pd\n",
    "from dateutil import tz\n",
    "from account import *\n",
    "matplotlib.rc('font', family='Monospace') \n",
    "matplotlib.rcParams.update({'figure.max_open_warning': 0})\n"
   ]
  },
  {
   "cell_type": "code",
   "execution_count": 5,
   "metadata": {},
   "outputs": [
    {
     "name": "stdout",
     "output_type": "stream",
     "text": [
      "loaded 352 rows\n",
      "Dataset starting 2023-03-21 09:12:46.390250+01:00  nats rx 2023-03-21 09:12:46.487023\n"
     ]
    },
    {
     "data": {
      "application/vnd.jupyter.widget-view+json": {
       "model_id": "2a99954b24574c55a428abf99afafe0d",
       "version_major": 2,
       "version_minor": 0
      },
      "text/plain": [
       "MetricsUi(children=(Map(center=[49.0, 12.1], controls=(ZoomControl(options=['position', 'zoom_in_text', 'zoom_…"
      ]
     },
     "metadata": {},
     "output_type": "display_data"
    }
   ],
   "source": [
    "#START_TIME = \"2023-03-16T09:10:00+01:00\"\n",
    "#start =datetime.datetime.fromisoformat(START_TIME)\n",
    "TIME_RANGE = datetime.timedelta(minutes=620)\n",
    "start = datetime.datetime.now().replace(tzinfo=tz.tzlocal()) - TIME_RANGE\n",
    "\n",
    "df = await loader.nats_stream_fetch( SERVER, NATS_CREDS, STREAM_NAME, EXPORT_SUBJECT_METRICS, start, start + TIME_RANGE)\n",
    "\n",
    "the_ui = ui.MetricsUi(df)\n",
    "display(the_ui)"
   ]
  },
  {
   "cell_type": "code",
   "execution_count": 3,
   "metadata": {},
   "outputs": [
    {
     "name": "stdout",
     "output_type": "stream",
     "text": [
      "Dataset starting 2022-09-14 08:11:20.905124+02:00  nats rx 2022-09-14 08:11:21.252110\n"
     ]
    },
    {
     "data": {
      "application/vnd.jupyter.widget-view+json": {
       "model_id": "e348fad6dfd44c13bc56900d1eaacfe6",
       "version_major": 2,
       "version_minor": 0
      },
      "text/plain": [
       "MetricsUi(children=(Map(center=[49.44, 11.06], controls=(ZoomControl(options=['position', 'zoom_in_text', 'zoo…"
      ]
     },
     "metadata": {},
     "output_type": "display_data"
    }
   ],
   "source": [
    "df = pd.read_pickle(\"data/metrics-20220914T000000-20220914T100000.df\")\n",
    "#df = df[(df.ts > \"2022-09-07T08:28:46.742170+02:00\") & (df.ts < \"2022-09-07T14:28:46.742170+02:00\")]\n",
    "ui.MetricsUi(df)"
   ]
  },
  {
   "cell_type": "code",
   "execution_count": null,
   "metadata": {},
   "outputs": [],
   "source": []
  }
 ],
 "metadata": {
  "kernelspec": {
   "display_name": "Python 3 (ipykernel)",
   "language": "python",
   "name": "python3"
  },
  "language_info": {
   "codemirror_mode": {
    "name": "ipython",
    "version": 3
   },
   "file_extension": ".py",
   "mimetype": "text/x-python",
   "name": "python",
   "nbconvert_exporter": "python",
   "pygments_lexer": "ipython3",
   "version": "3.9.0"
  },
  "vscode": {
   "interpreter": {
    "hash": "81794d4967e6c3204c66dcd87b604927b115b27c00565d3d43f05ba2f3a2cb0d"
   }
  }
 },
 "nbformat": 4,
 "nbformat_minor": 4
}
